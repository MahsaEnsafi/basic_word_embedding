{
  "nbformat": 4,
  "nbformat_minor": 0,
  "metadata": {
    "colab": {
      "provenance": []
    },
    "kernelspec": {
      "name": "python3",
      "display_name": "Python 3"
    },
    "language_info": {
      "name": "python"
    }
  },
  "cells": [
    {
      "cell_type": "code",
      "execution_count": null,
      "metadata": {
        "id": "VxlJrhV84Zzt"
      },
      "outputs": [],
      "source": [
        "import numpy as np\n",
        "from tensorflow.keras.preprocessing.text import one_hot\n",
        "from tensorflow.keras.preprocessing.sequence import pad_sequences\n",
        "from tensorflow.keras.models import Sequential\n",
        "from tensorflow.keras.layers import Dense,Flatten,Embedding"
      ]
    },
    {
      "cell_type": "code",
      "source": [
        "reviews=['nice food','amazing restaurant','too good','just love it','will go again',\n",
        "         'horrible food','never go there','poor service','poor quality','needs improvement']\n",
        "sentiments=np.array([1,1,1,1,1,0,0,0,0,0])"
      ],
      "metadata": {
        "id": "mpUBrWoY5Y4F"
      },
      "execution_count": null,
      "outputs": []
    },
    {
      "cell_type": "code",
      "source": [
        "vocab_size=30\n",
        "encoded_reviews=[one_hot(d,vocab_size) for d in reviews]\n",
        "encoded_reviews"
      ],
      "metadata": {
        "colab": {
          "base_uri": "https://localhost:8080/"
        },
        "id": "Hi5axcwR6ht2",
        "outputId": "4fa090a1-a80f-4652-8262-fff58e2eb8ff"
      },
      "execution_count": null,
      "outputs": [
        {
          "output_type": "execute_result",
          "data": {
            "text/plain": [
              "[[25, 7],\n",
              " [17, 8],\n",
              " [19, 1],\n",
              " [4, 24, 6],\n",
              " [19, 15, 17],\n",
              " [13, 7],\n",
              " [10, 15, 10],\n",
              " [12, 9],\n",
              " [12, 19],\n",
              " [12, 28]]"
            ]
          },
          "metadata": {},
          "execution_count": 3
        }
      ]
    },
    {
      "cell_type": "code",
      "source": [
        "max_length=4\n",
        "paded_review=pad_sequences(encoded_reviews,maxlen=max_length,padding='post')"
      ],
      "metadata": {
        "id": "XHl2Hxnc7Sp9"
      },
      "execution_count": null,
      "outputs": []
    },
    {
      "cell_type": "code",
      "source": [
        "embeded_vector_size=4\n",
        "model=Sequential()\n",
        "model.add(Embedding(vocab_size,embeded_vector_size,input_length=max_length,name='embedding'))\n",
        "model.add(Flatten())\n",
        "model.add(Dense(1,activation='sigmoid'))\n",
        "model.summary()"
      ],
      "metadata": {
        "colab": {
          "base_uri": "https://localhost:8080/",
          "height": 273
        },
        "id": "wX5GX4fe77tH",
        "outputId": "b094491c-4057-4982-e761-63a2ac8d06f4"
      },
      "execution_count": null,
      "outputs": [
        {
          "output_type": "stream",
          "name": "stderr",
          "text": [
            "/usr/local/lib/python3.11/dist-packages/keras/src/layers/core/embedding.py:90: UserWarning: Argument `input_length` is deprecated. Just remove it.\n",
            "  warnings.warn(\n"
          ]
        },
        {
          "output_type": "display_data",
          "data": {
            "text/plain": [
              "\u001b[1mModel: \"sequential_2\"\u001b[0m\n"
            ],
            "text/html": [
              "<pre style=\"white-space:pre;overflow-x:auto;line-height:normal;font-family:Menlo,'DejaVu Sans Mono',consolas,'Courier New',monospace\"><span style=\"font-weight: bold\">Model: \"sequential_2\"</span>\n",
              "</pre>\n"
            ]
          },
          "metadata": {}
        },
        {
          "output_type": "display_data",
          "data": {
            "text/plain": [
              "┏━━━━━━━━━━━━━━━━━━━━━━━━━━━━━━━━━┳━━━━━━━━━━━━━━━━━━━━━━━━┳━━━━━━━━━━━━━━━┓\n",
              "┃\u001b[1m \u001b[0m\u001b[1mLayer (type)                   \u001b[0m\u001b[1m \u001b[0m┃\u001b[1m \u001b[0m\u001b[1mOutput Shape          \u001b[0m\u001b[1m \u001b[0m┃\u001b[1m \u001b[0m\u001b[1m      Param #\u001b[0m\u001b[1m \u001b[0m┃\n",
              "┡━━━━━━━━━━━━━━━━━━━━━━━━━━━━━━━━━╇━━━━━━━━━━━━━━━━━━━━━━━━╇━━━━━━━━━━━━━━━┩\n",
              "│ embedding (\u001b[38;5;33mEmbedding\u001b[0m)           │ ?                      │   \u001b[38;5;34m0\u001b[0m (unbuilt) │\n",
              "├─────────────────────────────────┼────────────────────────┼───────────────┤\n",
              "│ flatten_1 (\u001b[38;5;33mFlatten\u001b[0m)             │ ?                      │   \u001b[38;5;34m0\u001b[0m (unbuilt) │\n",
              "├─────────────────────────────────┼────────────────────────┼───────────────┤\n",
              "│ dense_1 (\u001b[38;5;33mDense\u001b[0m)                 │ ?                      │   \u001b[38;5;34m0\u001b[0m (unbuilt) │\n",
              "└─────────────────────────────────┴────────────────────────┴───────────────┘\n"
            ],
            "text/html": [
              "<pre style=\"white-space:pre;overflow-x:auto;line-height:normal;font-family:Menlo,'DejaVu Sans Mono',consolas,'Courier New',monospace\">┏━━━━━━━━━━━━━━━━━━━━━━━━━━━━━━━━━┳━━━━━━━━━━━━━━━━━━━━━━━━┳━━━━━━━━━━━━━━━┓\n",
              "┃<span style=\"font-weight: bold\"> Layer (type)                    </span>┃<span style=\"font-weight: bold\"> Output Shape           </span>┃<span style=\"font-weight: bold\">       Param # </span>┃\n",
              "┡━━━━━━━━━━━━━━━━━━━━━━━━━━━━━━━━━╇━━━━━━━━━━━━━━━━━━━━━━━━╇━━━━━━━━━━━━━━━┩\n",
              "│ embedding (<span style=\"color: #0087ff; text-decoration-color: #0087ff\">Embedding</span>)           │ ?                      │   <span style=\"color: #00af00; text-decoration-color: #00af00\">0</span> (unbuilt) │\n",
              "├─────────────────────────────────┼────────────────────────┼───────────────┤\n",
              "│ flatten_1 (<span style=\"color: #0087ff; text-decoration-color: #0087ff\">Flatten</span>)             │ ?                      │   <span style=\"color: #00af00; text-decoration-color: #00af00\">0</span> (unbuilt) │\n",
              "├─────────────────────────────────┼────────────────────────┼───────────────┤\n",
              "│ dense_1 (<span style=\"color: #0087ff; text-decoration-color: #0087ff\">Dense</span>)                 │ ?                      │   <span style=\"color: #00af00; text-decoration-color: #00af00\">0</span> (unbuilt) │\n",
              "└─────────────────────────────────┴────────────────────────┴───────────────┘\n",
              "</pre>\n"
            ]
          },
          "metadata": {}
        },
        {
          "output_type": "display_data",
          "data": {
            "text/plain": [
              "\u001b[1m Total params: \u001b[0m\u001b[38;5;34m0\u001b[0m (0.00 B)\n"
            ],
            "text/html": [
              "<pre style=\"white-space:pre;overflow-x:auto;line-height:normal;font-family:Menlo,'DejaVu Sans Mono',consolas,'Courier New',monospace\"><span style=\"font-weight: bold\"> Total params: </span><span style=\"color: #00af00; text-decoration-color: #00af00\">0</span> (0.00 B)\n",
              "</pre>\n"
            ]
          },
          "metadata": {}
        },
        {
          "output_type": "display_data",
          "data": {
            "text/plain": [
              "\u001b[1m Trainable params: \u001b[0m\u001b[38;5;34m0\u001b[0m (0.00 B)\n"
            ],
            "text/html": [
              "<pre style=\"white-space:pre;overflow-x:auto;line-height:normal;font-family:Menlo,'DejaVu Sans Mono',consolas,'Courier New',monospace\"><span style=\"font-weight: bold\"> Trainable params: </span><span style=\"color: #00af00; text-decoration-color: #00af00\">0</span> (0.00 B)\n",
              "</pre>\n"
            ]
          },
          "metadata": {}
        },
        {
          "output_type": "display_data",
          "data": {
            "text/plain": [
              "\u001b[1m Non-trainable params: \u001b[0m\u001b[38;5;34m0\u001b[0m (0.00 B)\n"
            ],
            "text/html": [
              "<pre style=\"white-space:pre;overflow-x:auto;line-height:normal;font-family:Menlo,'DejaVu Sans Mono',consolas,'Courier New',monospace\"><span style=\"font-weight: bold\"> Non-trainable params: </span><span style=\"color: #00af00; text-decoration-color: #00af00\">0</span> (0.00 B)\n",
              "</pre>\n"
            ]
          },
          "metadata": {}
        }
      ]
    },
    {
      "cell_type": "code",
      "source": [
        "X=paded_review\n",
        "Y=sentiments"
      ],
      "metadata": {
        "id": "cfU6smAH-Xj1"
      },
      "execution_count": null,
      "outputs": []
    },
    {
      "cell_type": "code",
      "source": [
        "model.compile(optimizer='adam',loss='binary_crossentropy',metrics=['accuracy'])\n",
        "model.fit(X,Y,epochs=1)"
      ],
      "metadata": {
        "colab": {
          "base_uri": "https://localhost:8080/"
        },
        "id": "ChfWDQTM94Tm",
        "outputId": "c36d2ad0-1eff-49a1-b3ef-0a5774414d0e"
      },
      "execution_count": null,
      "outputs": [
        {
          "output_type": "stream",
          "name": "stdout",
          "text": [
            "\u001b[1m1/1\u001b[0m \u001b[32m━━━━━━━━━━━━━━━━━━━━\u001b[0m\u001b[37m\u001b[0m \u001b[1m1s\u001b[0m 1s/step - accuracy: 0.3000 - loss: 0.7005\n"
          ]
        },
        {
          "output_type": "execute_result",
          "data": {
            "text/plain": [
              "<keras.src.callbacks.history.History at 0x7dc7d90e4390>"
            ]
          },
          "metadata": {},
          "execution_count": 18
        }
      ]
    },
    {
      "cell_type": "code",
      "source": [
        "weights=model.get_layer('embedding').get_weights()[0]\n",
        "weights"
      ],
      "metadata": {
        "colab": {
          "base_uri": "https://localhost:8080/"
        },
        "id": "7Y2BZniwBLWg",
        "outputId": "3423e68b-5760-43fa-8c02-8dc19ba678bf"
      },
      "execution_count": null,
      "outputs": [
        {
          "output_type": "execute_result",
          "data": {
            "text/plain": [
              "array([[-0.03932694, -0.01519802, -0.03270589, -0.00918577],\n",
              "       [ 0.01192997,  0.01542496, -0.00518196,  0.02070615],\n",
              "       [ 0.02902349, -0.02764544,  0.023134  ,  0.01421657],\n",
              "       [-0.04667181,  0.01493979, -0.01029094, -0.01749922],\n",
              "       [-0.04088283,  0.00778228,  0.01231105,  0.0170393 ],\n",
              "       [ 0.04870075, -0.01610932, -0.00814063, -0.00748416],\n",
              "       [ 0.009744  ,  0.01416905,  0.00935164, -0.00576688],\n",
              "       [-0.03144493,  0.02523797, -0.01199253, -0.03499013],\n",
              "       [ 0.0188863 , -0.00334802,  0.00528491,  0.00058645],\n",
              "       [ 0.0220137 , -0.00757657,  0.01180227, -0.04880924],\n",
              "       [ 0.01242331,  0.03035122,  0.02104104,  0.03821361],\n",
              "       [ 0.01122041,  0.01914707,  0.00660146, -0.02798225],\n",
              "       [-0.01279564,  0.01124208,  0.04477607,  0.00977407],\n",
              "       [ 0.00989531,  0.02452411,  0.03952221, -0.04486259],\n",
              "       [ 0.01178074, -0.04940021, -0.00078643, -0.02554833],\n",
              "       [-0.00458103,  0.02829591,  0.00193711, -0.04416145],\n",
              "       [ 0.04216612, -0.00057303, -0.00252007,  0.02194375],\n",
              "       [-0.03672159,  0.03245082, -0.014623  ,  0.01756961],\n",
              "       [-0.03430245, -0.01734189,  0.0057901 , -0.01023187],\n",
              "       [-0.0065149 ,  0.01639239,  0.04881229, -0.01160358],\n",
              "       [ 0.01051436,  0.04170818,  0.03609946,  0.04012131],\n",
              "       [ 0.02931005, -0.01241344,  0.01406381,  0.0142148 ],\n",
              "       [ 0.03293389, -0.00357671, -0.01471777, -0.00573709],\n",
              "       [ 0.04217038, -0.02899821, -0.02161132, -0.00728507],\n",
              "       [ 0.00281671, -0.03592597, -0.01970805, -0.02803886],\n",
              "       [-0.04531659, -0.0261392 ,  0.04676468,  0.0313624 ],\n",
              "       [-0.03225963,  0.00351809,  0.00358444,  0.02485306],\n",
              "       [ 0.00793112, -0.02638656,  0.01702541, -0.04699502],\n",
              "       [ 0.03070766, -0.00128881,  0.00559849, -0.02408101],\n",
              "       [ 0.0260014 , -0.03901313, -0.02736926,  0.02384998]],\n",
              "      dtype=float32)"
            ]
          },
          "metadata": {},
          "execution_count": 19
        }
      ]
    }
  ]
}